{
 "cells": [
  {
   "cell_type": "code",
   "execution_count": 1,
   "id": "206ee76f",
   "metadata": {},
   "outputs": [
    {
     "name": "stdout",
     "output_type": "stream",
     "text": [
      "Requirement already satisfied: mysql-connector-python in c:\\users\\usuario\\anaconda3\\lib\\site-packages (8.0.31)\n",
      "Requirement already satisfied: protobuf<=3.20.1,>=3.11.0 in c:\\users\\usuario\\anaconda3\\lib\\site-packages (from mysql-connector-python) (3.19.1)\n",
      "Note: you may need to restart the kernel to use updated packages.\n"
     ]
    }
   ],
   "source": [
    "pip install mysql-connector-python\n"
   ]
  },
  {
   "cell_type": "code",
   "execution_count": 42,
   "id": "523b5ad7",
   "metadata": {},
   "outputs": [
    {
     "name": "stdout",
     "output_type": "stream",
     "text": [
      "Conexón exitosa\n",
      "8.0.31\n",
      "('caso boluya', 'sipppe', 1, 'nacional', '00000000N')\n",
      "('caso erre', 'sipppe', 1, 'nacional', '87654321N')\n",
      "('caso viluto', 'lo que sea', 10, 'nacional', '87654321N')\n",
      "('Ambito',)\n",
      "('Descripción',)\n",
      "('dni_imp',)\n",
      "('Millones',)\n",
      "('Nombre_del_caso',)\n"
     ]
    }
   ],
   "source": [
    "import mysql.connector\n",
    "\n",
    "# Establecer conexión a la base de datos MySQL\n",
    "try:\n",
    "    conn = mysql.connector.connect(\n",
    "        host = \"localhost\",  # Nombre de host o dirección IP del servidor MySQL\n",
    "        port = 3306,\n",
    "        user = \"root\",\n",
    "        password = \"*******\",\n",
    "        db = 'ejercicio'\n",
    "    )\n",
    "    if conn.is_connected():\n",
    "        print('Conexón exitosa')\n",
    "        info_server = conn.get_server_info()\n",
    "        print(info_server)\n",
    "        \n",
    "        # Crear un cursor para realizar consultas\n",
    "        cursor = conn.cursor()\n",
    "        \n",
    "        # Ejecutar una consulta SQL\n",
    "        cursor.execute(\"select * from caso where Millones <= 10\")\n",
    "\n",
    "        # Obtener resultados de la consulta\n",
    "        results_table = cursor.fetchall()\n",
    "        \n",
    "        # Imprimir los resultados\n",
    "        for row in results_table:\n",
    "            print(row)\n",
    "        \n",
    "        # Ejecutar una consulta SQL para obtener las columnas de la tabla 'caso'\n",
    "        tabla = 'caso'\n",
    "        consulta = f\"SELECT COLUMN_NAME FROM INFORMATION_SCHEMA.COLUMNS WHERE TABLE_NAME = '{tabla}'\"\n",
    "        cursor.execute(consulta)\n",
    "        \n",
    "        # Obtener resultados de la consulta\n",
    "        results_name = cursor.fetchall()\n",
    "        \n",
    "        # Imprimir los resultados\n",
    "        for row in results_name:\n",
    "            print(row)\n",
    "        \n",
    "   \n",
    "except Exception as ex:\n",
    "    print(ex)\n",
    "\n",
    "# Cerrar cursor y conexión\n",
    "finally:\n",
    "    if conn.is_connected():\n",
    "        cursor.close()\n",
    "        conn.close()\n",
    "\n",
    "        "
   ]
  },
  {
   "cell_type": "code",
   "execution_count": 43,
   "id": "b99709d5",
   "metadata": {},
   "outputs": [
    {
     "data": {
      "text/plain": [
       "[('Ambito',),\n",
       " ('Descripción',),\n",
       " ('dni_imp',),\n",
       " ('Millones',),\n",
       " ('Nombre_del_caso',)]"
      ]
     },
     "execution_count": 43,
     "metadata": {},
     "output_type": "execute_result"
    }
   ],
   "source": [
    "results_name"
   ]
  },
  {
   "cell_type": "code",
   "execution_count": 44,
   "id": "766f653e",
   "metadata": {},
   "outputs": [
    {
     "name": "stdout",
     "output_type": "stream",
     "text": [
      "[('Ambito',), ('Descripción',), ('dni_imp',), ('Millones',), ('Nombre_del_caso',)]\n",
      "['Ambito', 'Descripción', 'dni_imp', 'Millones', 'Nombre_del_caso']\n"
     ]
    }
   ],
   "source": [
    "print(results_name)\n",
    "# Utilizar una comprensión de lista para eliminar los caracteres\n",
    "results_name = [elemento[0] for elemento in results_name]\n",
    "print(results_name)\n"
   ]
  },
  {
   "cell_type": "code",
   "execution_count": 45,
   "id": "51c59353",
   "metadata": {},
   "outputs": [],
   "source": [
    "#Convertir a dataframe\n",
    "import pandas as pd\n",
    "df_results = pd.DataFrame(results_table, columns = results_name)"
   ]
  },
  {
   "cell_type": "code",
   "execution_count": 46,
   "id": "36df9bef",
   "metadata": {},
   "outputs": [
    {
     "data": {
      "text/html": [
       "<div>\n",
       "<style scoped>\n",
       "    .dataframe tbody tr th:only-of-type {\n",
       "        vertical-align: middle;\n",
       "    }\n",
       "\n",
       "    .dataframe tbody tr th {\n",
       "        vertical-align: top;\n",
       "    }\n",
       "\n",
       "    .dataframe thead th {\n",
       "        text-align: right;\n",
       "    }\n",
       "</style>\n",
       "<table border=\"1\" class=\"dataframe\">\n",
       "  <thead>\n",
       "    <tr style=\"text-align: right;\">\n",
       "      <th></th>\n",
       "      <th>Ambito</th>\n",
       "      <th>Descripción</th>\n",
       "      <th>dni_imp</th>\n",
       "      <th>Millones</th>\n",
       "      <th>Nombre_del_caso</th>\n",
       "    </tr>\n",
       "  </thead>\n",
       "  <tbody>\n",
       "    <tr>\n",
       "      <th>0</th>\n",
       "      <td>caso boluya</td>\n",
       "      <td>sipppe</td>\n",
       "      <td>1</td>\n",
       "      <td>nacional</td>\n",
       "      <td>00000000N</td>\n",
       "    </tr>\n",
       "    <tr>\n",
       "      <th>1</th>\n",
       "      <td>caso erre</td>\n",
       "      <td>sipppe</td>\n",
       "      <td>1</td>\n",
       "      <td>nacional</td>\n",
       "      <td>87654321N</td>\n",
       "    </tr>\n",
       "    <tr>\n",
       "      <th>2</th>\n",
       "      <td>caso viluto</td>\n",
       "      <td>lo que sea</td>\n",
       "      <td>10</td>\n",
       "      <td>nacional</td>\n",
       "      <td>87654321N</td>\n",
       "    </tr>\n",
       "  </tbody>\n",
       "</table>\n",
       "</div>"
      ],
      "text/plain": [
       "        Ambito Descripción  dni_imp  Millones Nombre_del_caso\n",
       "0  caso boluya      sipppe        1  nacional       00000000N\n",
       "1    caso erre      sipppe        1  nacional       87654321N\n",
       "2  caso viluto  lo que sea       10  nacional       87654321N"
      ]
     },
     "execution_count": 46,
     "metadata": {},
     "output_type": "execute_result"
    }
   ],
   "source": [
    "df_results.head()"
   ]
  }
 ],
 "metadata": {
  "kernelspec": {
   "display_name": "Python 3 (ipykernel)",
   "language": "python",
   "name": "python3"
  },
  "language_info": {
   "codemirror_mode": {
    "name": "ipython",
    "version": 3
   },
   "file_extension": ".py",
   "mimetype": "text/x-python",
   "name": "python",
   "nbconvert_exporter": "python",
   "pygments_lexer": "ipython3",
   "version": "3.9.12"
  }
 },
 "nbformat": 4,
 "nbformat_minor": 5
}
